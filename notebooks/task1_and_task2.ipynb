{
 "cells": [
  {
   "cell_type": "code",
   "execution_count": 2,
   "id": "7af76cd4",
   "metadata": {},
   "outputs": [],
   "source": [
    "import pandas as pd"
   ]
  },
  {
   "cell_type": "code",
   "execution_count": null,
   "id": "df2ea5f2",
   "metadata": {},
   "outputs": [],
   "source": []
  },
  {
   "cell_type": "markdown",
   "id": "5b50ca00",
   "metadata": {},
   "source": [
    "### Raw Dataset "
   ]
  },
  {
   "cell_type": "code",
   "execution_count": 1,
   "id": "54c1530f",
   "metadata": {},
   "outputs": [],
   "source": [
    "data_url = \"https://covid.ourworldindata.org/data/owid-covid-data.csv\""
   ]
  },
  {
   "cell_type": "code",
   "execution_count": 3,
   "id": "da3e6d90",
   "metadata": {},
   "outputs": [],
   "source": [
    "raw_data = pd.read_csv(data_url, sep=\",\")"
   ]
  },
  {
   "cell_type": "code",
   "execution_count": 4,
   "id": "84d73dcd",
   "metadata": {},
   "outputs": [
    {
     "data": {
      "text/html": [
       "<div>\n",
       "<style scoped>\n",
       "    .dataframe tbody tr th:only-of-type {\n",
       "        vertical-align: middle;\n",
       "    }\n",
       "\n",
       "    .dataframe tbody tr th {\n",
       "        vertical-align: top;\n",
       "    }\n",
       "\n",
       "    .dataframe thead th {\n",
       "        text-align: right;\n",
       "    }\n",
       "</style>\n",
       "<table border=\"1\" class=\"dataframe\">\n",
       "  <thead>\n",
       "    <tr style=\"text-align: right;\">\n",
       "      <th></th>\n",
       "      <th>iso_code</th>\n",
       "      <th>continent</th>\n",
       "      <th>location</th>\n",
       "      <th>date</th>\n",
       "      <th>total_cases</th>\n",
       "      <th>new_cases</th>\n",
       "      <th>new_cases_smoothed</th>\n",
       "      <th>total_deaths</th>\n",
       "      <th>new_deaths</th>\n",
       "      <th>new_deaths_smoothed</th>\n",
       "      <th>...</th>\n",
       "      <th>female_smokers</th>\n",
       "      <th>male_smokers</th>\n",
       "      <th>handwashing_facilities</th>\n",
       "      <th>hospital_beds_per_thousand</th>\n",
       "      <th>life_expectancy</th>\n",
       "      <th>human_development_index</th>\n",
       "      <th>excess_mortality_cumulative_absolute</th>\n",
       "      <th>excess_mortality_cumulative</th>\n",
       "      <th>excess_mortality</th>\n",
       "      <th>excess_mortality_cumulative_per_million</th>\n",
       "    </tr>\n",
       "  </thead>\n",
       "  <tbody>\n",
       "    <tr>\n",
       "      <th>0</th>\n",
       "      <td>AFG</td>\n",
       "      <td>Asia</td>\n",
       "      <td>Afghanistan</td>\n",
       "      <td>2020-02-24</td>\n",
       "      <td>5.0</td>\n",
       "      <td>5.0</td>\n",
       "      <td>NaN</td>\n",
       "      <td>NaN</td>\n",
       "      <td>NaN</td>\n",
       "      <td>NaN</td>\n",
       "      <td>...</td>\n",
       "      <td>NaN</td>\n",
       "      <td>NaN</td>\n",
       "      <td>37.746</td>\n",
       "      <td>0.5</td>\n",
       "      <td>64.83</td>\n",
       "      <td>0.511</td>\n",
       "      <td>NaN</td>\n",
       "      <td>NaN</td>\n",
       "      <td>NaN</td>\n",
       "      <td>NaN</td>\n",
       "    </tr>\n",
       "    <tr>\n",
       "      <th>1</th>\n",
       "      <td>AFG</td>\n",
       "      <td>Asia</td>\n",
       "      <td>Afghanistan</td>\n",
       "      <td>2020-02-25</td>\n",
       "      <td>5.0</td>\n",
       "      <td>0.0</td>\n",
       "      <td>NaN</td>\n",
       "      <td>NaN</td>\n",
       "      <td>NaN</td>\n",
       "      <td>NaN</td>\n",
       "      <td>...</td>\n",
       "      <td>NaN</td>\n",
       "      <td>NaN</td>\n",
       "      <td>37.746</td>\n",
       "      <td>0.5</td>\n",
       "      <td>64.83</td>\n",
       "      <td>0.511</td>\n",
       "      <td>NaN</td>\n",
       "      <td>NaN</td>\n",
       "      <td>NaN</td>\n",
       "      <td>NaN</td>\n",
       "    </tr>\n",
       "    <tr>\n",
       "      <th>2</th>\n",
       "      <td>AFG</td>\n",
       "      <td>Asia</td>\n",
       "      <td>Afghanistan</td>\n",
       "      <td>2020-02-26</td>\n",
       "      <td>5.0</td>\n",
       "      <td>0.0</td>\n",
       "      <td>NaN</td>\n",
       "      <td>NaN</td>\n",
       "      <td>NaN</td>\n",
       "      <td>NaN</td>\n",
       "      <td>...</td>\n",
       "      <td>NaN</td>\n",
       "      <td>NaN</td>\n",
       "      <td>37.746</td>\n",
       "      <td>0.5</td>\n",
       "      <td>64.83</td>\n",
       "      <td>0.511</td>\n",
       "      <td>NaN</td>\n",
       "      <td>NaN</td>\n",
       "      <td>NaN</td>\n",
       "      <td>NaN</td>\n",
       "    </tr>\n",
       "    <tr>\n",
       "      <th>3</th>\n",
       "      <td>AFG</td>\n",
       "      <td>Asia</td>\n",
       "      <td>Afghanistan</td>\n",
       "      <td>2020-02-27</td>\n",
       "      <td>5.0</td>\n",
       "      <td>0.0</td>\n",
       "      <td>NaN</td>\n",
       "      <td>NaN</td>\n",
       "      <td>NaN</td>\n",
       "      <td>NaN</td>\n",
       "      <td>...</td>\n",
       "      <td>NaN</td>\n",
       "      <td>NaN</td>\n",
       "      <td>37.746</td>\n",
       "      <td>0.5</td>\n",
       "      <td>64.83</td>\n",
       "      <td>0.511</td>\n",
       "      <td>NaN</td>\n",
       "      <td>NaN</td>\n",
       "      <td>NaN</td>\n",
       "      <td>NaN</td>\n",
       "    </tr>\n",
       "    <tr>\n",
       "      <th>4</th>\n",
       "      <td>AFG</td>\n",
       "      <td>Asia</td>\n",
       "      <td>Afghanistan</td>\n",
       "      <td>2020-02-28</td>\n",
       "      <td>5.0</td>\n",
       "      <td>0.0</td>\n",
       "      <td>NaN</td>\n",
       "      <td>NaN</td>\n",
       "      <td>NaN</td>\n",
       "      <td>NaN</td>\n",
       "      <td>...</td>\n",
       "      <td>NaN</td>\n",
       "      <td>NaN</td>\n",
       "      <td>37.746</td>\n",
       "      <td>0.5</td>\n",
       "      <td>64.83</td>\n",
       "      <td>0.511</td>\n",
       "      <td>NaN</td>\n",
       "      <td>NaN</td>\n",
       "      <td>NaN</td>\n",
       "      <td>NaN</td>\n",
       "    </tr>\n",
       "  </tbody>\n",
       "</table>\n",
       "<p>5 rows × 67 columns</p>\n",
       "</div>"
      ],
      "text/plain": [
       "  iso_code continent     location        date  total_cases  new_cases  \\\n",
       "0      AFG      Asia  Afghanistan  2020-02-24          5.0        5.0   \n",
       "1      AFG      Asia  Afghanistan  2020-02-25          5.0        0.0   \n",
       "2      AFG      Asia  Afghanistan  2020-02-26          5.0        0.0   \n",
       "3      AFG      Asia  Afghanistan  2020-02-27          5.0        0.0   \n",
       "4      AFG      Asia  Afghanistan  2020-02-28          5.0        0.0   \n",
       "\n",
       "   new_cases_smoothed  total_deaths  new_deaths  new_deaths_smoothed  ...  \\\n",
       "0                 NaN           NaN         NaN                  NaN  ...   \n",
       "1                 NaN           NaN         NaN                  NaN  ...   \n",
       "2                 NaN           NaN         NaN                  NaN  ...   \n",
       "3                 NaN           NaN         NaN                  NaN  ...   \n",
       "4                 NaN           NaN         NaN                  NaN  ...   \n",
       "\n",
       "   female_smokers  male_smokers  handwashing_facilities  \\\n",
       "0             NaN           NaN                  37.746   \n",
       "1             NaN           NaN                  37.746   \n",
       "2             NaN           NaN                  37.746   \n",
       "3             NaN           NaN                  37.746   \n",
       "4             NaN           NaN                  37.746   \n",
       "\n",
       "   hospital_beds_per_thousand  life_expectancy  human_development_index  \\\n",
       "0                         0.5            64.83                    0.511   \n",
       "1                         0.5            64.83                    0.511   \n",
       "2                         0.5            64.83                    0.511   \n",
       "3                         0.5            64.83                    0.511   \n",
       "4                         0.5            64.83                    0.511   \n",
       "\n",
       "   excess_mortality_cumulative_absolute  excess_mortality_cumulative  \\\n",
       "0                                   NaN                          NaN   \n",
       "1                                   NaN                          NaN   \n",
       "2                                   NaN                          NaN   \n",
       "3                                   NaN                          NaN   \n",
       "4                                   NaN                          NaN   \n",
       "\n",
       "   excess_mortality  excess_mortality_cumulative_per_million  \n",
       "0               NaN                                      NaN  \n",
       "1               NaN                                      NaN  \n",
       "2               NaN                                      NaN  \n",
       "3               NaN                                      NaN  \n",
       "4               NaN                                      NaN  \n",
       "\n",
       "[5 rows x 67 columns]"
      ]
     },
     "execution_count": 4,
     "metadata": {},
     "output_type": "execute_result"
    }
   ],
   "source": [
    "raw_data.head()"
   ]
  },
  {
   "cell_type": "code",
   "execution_count": 6,
   "id": "5f705abd",
   "metadata": {},
   "outputs": [
    {
     "data": {
      "text/plain": [
       "Index(['iso_code', 'continent', 'location', 'date', 'total_cases', 'new_cases',\n",
       "       'new_cases_smoothed', 'total_deaths', 'new_deaths',\n",
       "       'new_deaths_smoothed', 'total_cases_per_million',\n",
       "       'new_cases_per_million', 'new_cases_smoothed_per_million',\n",
       "       'total_deaths_per_million', 'new_deaths_per_million',\n",
       "       'new_deaths_smoothed_per_million', 'reproduction_rate', 'icu_patients',\n",
       "       'icu_patients_per_million', 'hosp_patients',\n",
       "       'hosp_patients_per_million', 'weekly_icu_admissions',\n",
       "       'weekly_icu_admissions_per_million', 'weekly_hosp_admissions',\n",
       "       'weekly_hosp_admissions_per_million', 'total_tests', 'new_tests',\n",
       "       'total_tests_per_thousand', 'new_tests_per_thousand',\n",
       "       'new_tests_smoothed', 'new_tests_smoothed_per_thousand',\n",
       "       'positive_rate', 'tests_per_case', 'tests_units', 'total_vaccinations',\n",
       "       'people_vaccinated', 'people_fully_vaccinated', 'total_boosters',\n",
       "       'new_vaccinations', 'new_vaccinations_smoothed',\n",
       "       'total_vaccinations_per_hundred', 'people_vaccinated_per_hundred',\n",
       "       'people_fully_vaccinated_per_hundred', 'total_boosters_per_hundred',\n",
       "       'new_vaccinations_smoothed_per_million',\n",
       "       'new_people_vaccinated_smoothed',\n",
       "       'new_people_vaccinated_smoothed_per_hundred', 'stringency_index',\n",
       "       'population', 'population_density', 'median_age', 'aged_65_older',\n",
       "       'aged_70_older', 'gdp_per_capita', 'extreme_poverty',\n",
       "       'cardiovasc_death_rate', 'diabetes_prevalence', 'female_smokers',\n",
       "       'male_smokers', 'handwashing_facilities', 'hospital_beds_per_thousand',\n",
       "       'life_expectancy', 'human_development_index',\n",
       "       'excess_mortality_cumulative_absolute', 'excess_mortality_cumulative',\n",
       "       'excess_mortality', 'excess_mortality_cumulative_per_million'],\n",
       "      dtype='object')"
      ]
     },
     "execution_count": 6,
     "metadata": {},
     "output_type": "execute_result"
    }
   ],
   "source": [
    "raw_data.columns"
   ]
  },
  {
   "cell_type": "markdown",
   "id": "73a9f2f7",
   "metadata": {},
   "source": [
    "### Data Understanding"
   ]
  },
  {
   "cell_type": "code",
   "execution_count": 37,
   "id": "4e099c29",
   "metadata": {},
   "outputs": [
    {
     "data": {
      "text/plain": [
       "array(['Afghanistan', 'Africa', 'Albania', 'Algeria', 'Andorra', 'Angola',\n",
       "       'Anguilla', 'Antigua and Barbuda', 'Argentina', 'Armenia', 'Aruba',\n",
       "       'Asia', 'Australia', 'Austria', 'Azerbaijan', 'Bahamas', 'Bahrain',\n",
       "       'Bangladesh', 'Barbados', 'Belarus', 'Belgium', 'Belize', 'Benin',\n",
       "       'Bermuda', 'Bhutan', 'Bolivia', 'Bonaire Sint Eustatius and Saba',\n",
       "       'Bosnia and Herzegovina', 'Botswana', 'Brazil',\n",
       "       'British Virgin Islands', 'Brunei', 'Bulgaria', 'Burkina Faso',\n",
       "       'Burundi', 'Cambodia', 'Cameroon', 'Canada', 'Cape Verde',\n",
       "       'Cayman Islands', 'Central African Republic', 'Chad', 'Chile',\n",
       "       'China', 'Colombia', 'Comoros', 'Congo', 'Cook Islands',\n",
       "       'Costa Rica', \"Cote d'Ivoire\", 'Croatia', 'Cuba', 'Curacao',\n",
       "       'Cyprus', 'Czechia', 'Democratic Republic of Congo', 'Denmark',\n",
       "       'Djibouti', 'Dominica', 'Dominican Republic', 'Ecuador', 'Egypt',\n",
       "       'El Salvador', 'Equatorial Guinea', 'Eritrea', 'Estonia',\n",
       "       'Eswatini', 'Ethiopia', 'Europe', 'European Union',\n",
       "       'Faeroe Islands', 'Falkland Islands', 'Fiji', 'Finland', 'France',\n",
       "       'French Polynesia', 'Gabon', 'Gambia', 'Georgia', 'Germany',\n",
       "       'Ghana', 'Gibraltar', 'Greece', 'Greenland', 'Grenada', 'Guam',\n",
       "       'Guatemala', 'Guernsey', 'Guinea', 'Guinea-Bissau', 'Guyana',\n",
       "       'Haiti', 'High income', 'Honduras', 'Hong Kong', 'Hungary',\n",
       "       'Iceland', 'India', 'Indonesia', 'International', 'Iran', 'Iraq',\n",
       "       'Ireland', 'Isle of Man', 'Israel', 'Italy', 'Jamaica', 'Japan',\n",
       "       'Jersey', 'Jordan', 'Kazakhstan', 'Kenya', 'Kiribati', 'Kosovo',\n",
       "       'Kuwait', 'Kyrgyzstan', 'Laos', 'Latvia', 'Lebanon', 'Lesotho',\n",
       "       'Liberia', 'Libya', 'Liechtenstein', 'Lithuania', 'Low income',\n",
       "       'Lower middle income', 'Luxembourg', 'Macao', 'Madagascar',\n",
       "       'Malawi', 'Malaysia', 'Maldives', 'Mali', 'Malta',\n",
       "       'Marshall Islands', 'Mauritania', 'Mauritius', 'Mexico',\n",
       "       'Micronesia (country)', 'Moldova', 'Monaco', 'Mongolia',\n",
       "       'Montenegro', 'Montserrat', 'Morocco', 'Mozambique', 'Myanmar',\n",
       "       'Namibia', 'Nauru', 'Nepal', 'Netherlands', 'New Caledonia',\n",
       "       'New Zealand', 'Nicaragua', 'Niger', 'Nigeria', 'Niue',\n",
       "       'North America', 'North Korea', 'North Macedonia',\n",
       "       'Northern Cyprus', 'Northern Mariana Islands', 'Norway', 'Oceania',\n",
       "       'Oman', 'Pakistan', 'Palau', 'Palestine', 'Panama',\n",
       "       'Papua New Guinea', 'Paraguay', 'Peru', 'Philippines', 'Pitcairn',\n",
       "       'Poland', 'Portugal', 'Puerto Rico', 'Qatar', 'Romania', 'Russia',\n",
       "       'Rwanda', 'Saint Helena', 'Saint Kitts and Nevis', 'Saint Lucia',\n",
       "       'Saint Pierre and Miquelon', 'Saint Vincent and the Grenadines',\n",
       "       'Samoa', 'San Marino', 'Sao Tome and Principe', 'Saudi Arabia',\n",
       "       'Senegal', 'Serbia', 'Seychelles', 'Sierra Leone', 'Singapore',\n",
       "       'Sint Maarten (Dutch part)', 'Slovakia', 'Slovenia',\n",
       "       'Solomon Islands', 'Somalia', 'South Africa', 'South America',\n",
       "       'South Korea', 'South Sudan', 'Spain', 'Sri Lanka', 'Sudan',\n",
       "       'Suriname', 'Sweden', 'Switzerland', 'Syria', 'Taiwan',\n",
       "       'Tajikistan', 'Tanzania', 'Thailand', 'Timor', 'Togo', 'Tokelau',\n",
       "       'Tonga', 'Trinidad and Tobago', 'Tunisia', 'Turkey',\n",
       "       'Turkmenistan', 'Turks and Caicos Islands', 'Tuvalu', 'Uganda',\n",
       "       'Ukraine', 'United Arab Emirates', 'United Kingdom',\n",
       "       'United States', 'United States Virgin Islands',\n",
       "       'Upper middle income', 'Uruguay', 'Uzbekistan', 'Vanuatu',\n",
       "       'Vatican', 'Venezuela', 'Vietnam', 'Wallis and Futuna',\n",
       "       'Western Sahara', 'World', 'Yemen', 'Zambia', 'Zimbabwe'],\n",
       "      dtype=object)"
      ]
     },
     "execution_count": 37,
     "metadata": {},
     "output_type": "execute_result"
    }
   ],
   "source": [
    "raw_data[\"location\"].unique()"
   ]
  },
  {
   "cell_type": "code",
   "execution_count": 38,
   "id": "390feaad",
   "metadata": {},
   "outputs": [
    {
     "data": {
      "text/plain": [
       "array([     nan,       0.,    8200., ..., 6277180., 6278211., 6281041.])"
      ]
     },
     "execution_count": 38,
     "metadata": {},
     "output_type": "execute_result"
    }
   ],
   "source": [
    "raw_data[\"people_vaccinated\"].unique()"
   ]
  },
  {
   "cell_type": "code",
   "execution_count": 39,
   "id": "35a00c96",
   "metadata": {},
   "outputs": [
    {
     "data": {
      "text/plain": [
       "array([5.00000e+00, 8.00000e+00, 1.10000e+01, ..., 2.55049e+05,\n",
       "       2.55136e+05, 2.55309e+05])"
      ]
     },
     "execution_count": 39,
     "metadata": {},
     "output_type": "execute_result"
    }
   ],
   "source": [
    "raw_data[\"total_cases\"].unique()"
   ]
  },
  {
   "cell_type": "markdown",
   "id": "d49ea4af",
   "metadata": {},
   "source": [
    "### Data Preparation"
   ]
  },
  {
   "cell_type": "code",
   "execution_count": 159,
   "id": "6eba9f37",
   "metadata": {},
   "outputs": [],
   "source": [
    "processed_data = raw_data.loc[:, [\"date\", \"location\", \"population\", \"total_cases\", \"people_vaccinated\"]]"
   ]
  },
  {
   "cell_type": "code",
   "execution_count": 160,
   "id": "fe0bd15b",
   "metadata": {},
   "outputs": [
    {
     "data": {
      "text/html": [
       "<div>\n",
       "<style scoped>\n",
       "    .dataframe tbody tr th:only-of-type {\n",
       "        vertical-align: middle;\n",
       "    }\n",
       "\n",
       "    .dataframe tbody tr th {\n",
       "        vertical-align: top;\n",
       "    }\n",
       "\n",
       "    .dataframe thead th {\n",
       "        text-align: right;\n",
       "    }\n",
       "</style>\n",
       "<table border=\"1\" class=\"dataframe\">\n",
       "  <thead>\n",
       "    <tr style=\"text-align: right;\">\n",
       "      <th></th>\n",
       "      <th>date</th>\n",
       "      <th>location</th>\n",
       "      <th>population</th>\n",
       "      <th>total_cases</th>\n",
       "      <th>people_vaccinated</th>\n",
       "    </tr>\n",
       "  </thead>\n",
       "  <tbody>\n",
       "    <tr>\n",
       "      <th>0</th>\n",
       "      <td>2020-02-24</td>\n",
       "      <td>Afghanistan</td>\n",
       "      <td>39835428.0</td>\n",
       "      <td>5.0</td>\n",
       "      <td>NaN</td>\n",
       "    </tr>\n",
       "    <tr>\n",
       "      <th>1</th>\n",
       "      <td>2020-02-25</td>\n",
       "      <td>Afghanistan</td>\n",
       "      <td>39835428.0</td>\n",
       "      <td>5.0</td>\n",
       "      <td>NaN</td>\n",
       "    </tr>\n",
       "    <tr>\n",
       "      <th>2</th>\n",
       "      <td>2020-02-26</td>\n",
       "      <td>Afghanistan</td>\n",
       "      <td>39835428.0</td>\n",
       "      <td>5.0</td>\n",
       "      <td>NaN</td>\n",
       "    </tr>\n",
       "    <tr>\n",
       "      <th>3</th>\n",
       "      <td>2020-02-27</td>\n",
       "      <td>Afghanistan</td>\n",
       "      <td>39835428.0</td>\n",
       "      <td>5.0</td>\n",
       "      <td>NaN</td>\n",
       "    </tr>\n",
       "    <tr>\n",
       "      <th>4</th>\n",
       "      <td>2020-02-28</td>\n",
       "      <td>Afghanistan</td>\n",
       "      <td>39835428.0</td>\n",
       "      <td>5.0</td>\n",
       "      <td>NaN</td>\n",
       "    </tr>\n",
       "  </tbody>\n",
       "</table>\n",
       "</div>"
      ],
      "text/plain": [
       "         date     location  population  total_cases  people_vaccinated\n",
       "0  2020-02-24  Afghanistan  39835428.0          5.0                NaN\n",
       "1  2020-02-25  Afghanistan  39835428.0          5.0                NaN\n",
       "2  2020-02-26  Afghanistan  39835428.0          5.0                NaN\n",
       "3  2020-02-27  Afghanistan  39835428.0          5.0                NaN\n",
       "4  2020-02-28  Afghanistan  39835428.0          5.0                NaN"
      ]
     },
     "execution_count": 160,
     "metadata": {},
     "output_type": "execute_result"
    }
   ],
   "source": [
    "processed_data.head()"
   ]
  },
  {
   "cell_type": "code",
   "execution_count": 161,
   "id": "8b31ea2a",
   "metadata": {},
   "outputs": [],
   "source": [
    "processed_data[\"people_vaccinated\"] = processed_data[\"people_vaccinated\"].interpolate(method='pad')"
   ]
  },
  {
   "cell_type": "code",
   "execution_count": 162,
   "id": "c4b36b21",
   "metadata": {},
   "outputs": [],
   "source": [
    "processed_data[\"people_vaccinated\"] = processed_data[\"people_vaccinated\"].fillna(0)"
   ]
  },
  {
   "cell_type": "code",
   "execution_count": 163,
   "id": "c622f7c7",
   "metadata": {},
   "outputs": [
    {
     "data": {
      "text/html": [
       "<div>\n",
       "<style scoped>\n",
       "    .dataframe tbody tr th:only-of-type {\n",
       "        vertical-align: middle;\n",
       "    }\n",
       "\n",
       "    .dataframe tbody tr th {\n",
       "        vertical-align: top;\n",
       "    }\n",
       "\n",
       "    .dataframe thead th {\n",
       "        text-align: right;\n",
       "    }\n",
       "</style>\n",
       "<table border=\"1\" class=\"dataframe\">\n",
       "  <thead>\n",
       "    <tr style=\"text-align: right;\">\n",
       "      <th></th>\n",
       "      <th>date</th>\n",
       "      <th>location</th>\n",
       "      <th>population</th>\n",
       "      <th>total_cases</th>\n",
       "      <th>people_vaccinated</th>\n",
       "    </tr>\n",
       "  </thead>\n",
       "  <tbody>\n",
       "    <tr>\n",
       "      <th>0</th>\n",
       "      <td>2020-02-24</td>\n",
       "      <td>Afghanistan</td>\n",
       "      <td>39835428.0</td>\n",
       "      <td>5.0</td>\n",
       "      <td>0.0</td>\n",
       "    </tr>\n",
       "    <tr>\n",
       "      <th>1</th>\n",
       "      <td>2020-02-25</td>\n",
       "      <td>Afghanistan</td>\n",
       "      <td>39835428.0</td>\n",
       "      <td>5.0</td>\n",
       "      <td>0.0</td>\n",
       "    </tr>\n",
       "    <tr>\n",
       "      <th>2</th>\n",
       "      <td>2020-02-26</td>\n",
       "      <td>Afghanistan</td>\n",
       "      <td>39835428.0</td>\n",
       "      <td>5.0</td>\n",
       "      <td>0.0</td>\n",
       "    </tr>\n",
       "    <tr>\n",
       "      <th>3</th>\n",
       "      <td>2020-02-27</td>\n",
       "      <td>Afghanistan</td>\n",
       "      <td>39835428.0</td>\n",
       "      <td>5.0</td>\n",
       "      <td>0.0</td>\n",
       "    </tr>\n",
       "    <tr>\n",
       "      <th>4</th>\n",
       "      <td>2020-02-28</td>\n",
       "      <td>Afghanistan</td>\n",
       "      <td>39835428.0</td>\n",
       "      <td>5.0</td>\n",
       "      <td>0.0</td>\n",
       "    </tr>\n",
       "  </tbody>\n",
       "</table>\n",
       "</div>"
      ],
      "text/plain": [
       "         date     location  population  total_cases  people_vaccinated\n",
       "0  2020-02-24  Afghanistan  39835428.0          5.0                0.0\n",
       "1  2020-02-25  Afghanistan  39835428.0          5.0                0.0\n",
       "2  2020-02-26  Afghanistan  39835428.0          5.0                0.0\n",
       "3  2020-02-27  Afghanistan  39835428.0          5.0                0.0\n",
       "4  2020-02-28  Afghanistan  39835428.0          5.0                0.0"
      ]
     },
     "execution_count": 163,
     "metadata": {},
     "output_type": "execute_result"
    }
   ],
   "source": [
    "processed_data.head()"
   ]
  },
  {
   "cell_type": "code",
   "execution_count": 164,
   "id": "dc271a89",
   "metadata": {},
   "outputs": [
    {
     "data": {
      "text/plain": [
       "False"
      ]
     },
     "execution_count": 164,
     "metadata": {},
     "output_type": "execute_result"
    }
   ],
   "source": [
    "pd.isnull(processed_data[\"people_vaccinated\"]).any()"
   ]
  },
  {
   "cell_type": "code",
   "execution_count": 165,
   "id": "de2b2f77",
   "metadata": {},
   "outputs": [
    {
     "data": {
      "text/plain": [
       "True"
      ]
     },
     "execution_count": 165,
     "metadata": {},
     "output_type": "execute_result"
    }
   ],
   "source": [
    "pd.isnull(processed_data[\"total_cases\"]).any()"
   ]
  },
  {
   "cell_type": "code",
   "execution_count": 166,
   "id": "38c2bc05",
   "metadata": {},
   "outputs": [],
   "source": [
    "processed_data[\"total_cases\"] = processed_data[\"total_cases\"].fillna(0)"
   ]
  },
  {
   "cell_type": "code",
   "execution_count": 167,
   "id": "a8902f6a",
   "metadata": {},
   "outputs": [
    {
     "data": {
      "text/plain": [
       "False"
      ]
     },
     "execution_count": 167,
     "metadata": {},
     "output_type": "execute_result"
    }
   ],
   "source": [
    "pd.isnull(processed_data[\"total_cases\"]).any()"
   ]
  },
  {
   "cell_type": "code",
   "execution_count": 168,
   "id": "c184189b",
   "metadata": {},
   "outputs": [],
   "source": [
    "country_list=['Germany',\n",
    "              'India',\n",
    "              'United States',\n",
    "              'United Kingdom'\n",
    "             ] "
   ]
  },
  {
   "cell_type": "code",
   "execution_count": 169,
   "id": "e0f3b024",
   "metadata": {},
   "outputs": [
    {
     "data": {
      "text/html": [
       "<div>\n",
       "<style scoped>\n",
       "    .dataframe tbody tr th:only-of-type {\n",
       "        vertical-align: middle;\n",
       "    }\n",
       "\n",
       "    .dataframe tbody tr th {\n",
       "        vertical-align: top;\n",
       "    }\n",
       "\n",
       "    .dataframe thead th {\n",
       "        text-align: right;\n",
       "    }\n",
       "</style>\n",
       "<table border=\"1\" class=\"dataframe\">\n",
       "  <thead>\n",
       "    <tr style=\"text-align: right;\">\n",
       "      <th></th>\n",
       "      <th>date</th>\n",
       "      <th>location</th>\n",
       "      <th>population</th>\n",
       "      <th>total_cases</th>\n",
       "      <th>people_vaccinated</th>\n",
       "    </tr>\n",
       "  </thead>\n",
       "  <tbody>\n",
       "    <tr>\n",
       "      <th>0</th>\n",
       "      <td>2020-01-27</td>\n",
       "      <td>Germany</td>\n",
       "      <td>83900471.0</td>\n",
       "      <td>1.0</td>\n",
       "      <td>1630125.0</td>\n",
       "    </tr>\n",
       "    <tr>\n",
       "      <th>1</th>\n",
       "      <td>2020-01-28</td>\n",
       "      <td>Germany</td>\n",
       "      <td>83900471.0</td>\n",
       "      <td>4.0</td>\n",
       "      <td>1630125.0</td>\n",
       "    </tr>\n",
       "    <tr>\n",
       "      <th>2</th>\n",
       "      <td>2020-01-29</td>\n",
       "      <td>Germany</td>\n",
       "      <td>83900471.0</td>\n",
       "      <td>4.0</td>\n",
       "      <td>1630125.0</td>\n",
       "    </tr>\n",
       "    <tr>\n",
       "      <th>3</th>\n",
       "      <td>2020-01-30</td>\n",
       "      <td>Germany</td>\n",
       "      <td>83900471.0</td>\n",
       "      <td>4.0</td>\n",
       "      <td>1630125.0</td>\n",
       "    </tr>\n",
       "    <tr>\n",
       "      <th>4</th>\n",
       "      <td>2020-01-31</td>\n",
       "      <td>Germany</td>\n",
       "      <td>83900471.0</td>\n",
       "      <td>5.0</td>\n",
       "      <td>1630125.0</td>\n",
       "    </tr>\n",
       "    <tr>\n",
       "      <th>...</th>\n",
       "      <td>...</td>\n",
       "      <td>...</td>\n",
       "      <td>...</td>\n",
       "      <td>...</td>\n",
       "      <td>...</td>\n",
       "    </tr>\n",
       "    <tr>\n",
       "      <th>3513</th>\n",
       "      <td>2022-06-20</td>\n",
       "      <td>United States</td>\n",
       "      <td>332915074.0</td>\n",
       "      <td>86297081.0</td>\n",
       "      <td>259422786.0</td>\n",
       "    </tr>\n",
       "    <tr>\n",
       "      <th>3514</th>\n",
       "      <td>2022-06-21</td>\n",
       "      <td>United States</td>\n",
       "      <td>332915074.0</td>\n",
       "      <td>86452232.0</td>\n",
       "      <td>259426758.0</td>\n",
       "    </tr>\n",
       "    <tr>\n",
       "      <th>3515</th>\n",
       "      <td>2022-06-22</td>\n",
       "      <td>United States</td>\n",
       "      <td>332915074.0</td>\n",
       "      <td>86636306.0</td>\n",
       "      <td>259426758.0</td>\n",
       "    </tr>\n",
       "    <tr>\n",
       "      <th>3516</th>\n",
       "      <td>2022-06-23</td>\n",
       "      <td>United States</td>\n",
       "      <td>332915074.0</td>\n",
       "      <td>86757621.0</td>\n",
       "      <td>259426758.0</td>\n",
       "    </tr>\n",
       "    <tr>\n",
       "      <th>3517</th>\n",
       "      <td>2022-06-24</td>\n",
       "      <td>United States</td>\n",
       "      <td>332915074.0</td>\n",
       "      <td>86909716.0</td>\n",
       "      <td>259426758.0</td>\n",
       "    </tr>\n",
       "  </tbody>\n",
       "</table>\n",
       "<p>3518 rows × 5 columns</p>\n",
       "</div>"
      ],
      "text/plain": [
       "            date       location   population  total_cases  people_vaccinated\n",
       "0     2020-01-27        Germany   83900471.0          1.0          1630125.0\n",
       "1     2020-01-28        Germany   83900471.0          4.0          1630125.0\n",
       "2     2020-01-29        Germany   83900471.0          4.0          1630125.0\n",
       "3     2020-01-30        Germany   83900471.0          4.0          1630125.0\n",
       "4     2020-01-31        Germany   83900471.0          5.0          1630125.0\n",
       "...          ...            ...          ...          ...                ...\n",
       "3513  2022-06-20  United States  332915074.0   86297081.0        259422786.0\n",
       "3514  2022-06-21  United States  332915074.0   86452232.0        259426758.0\n",
       "3515  2022-06-22  United States  332915074.0   86636306.0        259426758.0\n",
       "3516  2022-06-23  United States  332915074.0   86757621.0        259426758.0\n",
       "3517  2022-06-24  United States  332915074.0   86909716.0        259426758.0\n",
       "\n",
       "[3518 rows x 5 columns]"
      ]
     },
     "execution_count": 169,
     "metadata": {},
     "output_type": "execute_result"
    }
   ],
   "source": [
    "processed_data = processed_data.loc[processed_data[\"location\"].isin(country_list)]\n",
    "processed_data.reset_index(drop=True)"
   ]
  },
  {
   "cell_type": "code",
   "execution_count": 170,
   "id": "87175438",
   "metadata": {},
   "outputs": [
    {
     "data": {
      "text/plain": [
       "array(['Germany', 'India', 'United Kingdom', 'United States'],\n",
       "      dtype=object)"
      ]
     },
     "execution_count": 170,
     "metadata": {},
     "output_type": "execute_result"
    }
   ],
   "source": [
    "processed_data[\"location\"].unique()"
   ]
  },
  {
   "cell_type": "code",
   "execution_count": null,
   "id": "90e41f77",
   "metadata": {},
   "outputs": [],
   "source": []
  },
  {
   "cell_type": "code",
   "execution_count": 171,
   "id": "098b26b7",
   "metadata": {},
   "outputs": [],
   "source": [
    "processed_data[\"total_cases_rate\"] = processed_data[\"total_cases\"]/processed_data[\"population\"]\n",
    "processed_data[\"people_vaccinated_rate\"] = processed_data[\"people_vaccinated\"]/processed_data[\"population\"]"
   ]
  },
  {
   "cell_type": "code",
   "execution_count": 172,
   "id": "84d8ba8b",
   "metadata": {},
   "outputs": [
    {
     "data": {
      "text/html": [
       "<div>\n",
       "<style scoped>\n",
       "    .dataframe tbody tr th:only-of-type {\n",
       "        vertical-align: middle;\n",
       "    }\n",
       "\n",
       "    .dataframe tbody tr th {\n",
       "        vertical-align: top;\n",
       "    }\n",
       "\n",
       "    .dataframe thead th {\n",
       "        text-align: right;\n",
       "    }\n",
       "</style>\n",
       "<table border=\"1\" class=\"dataframe\">\n",
       "  <thead>\n",
       "    <tr style=\"text-align: right;\">\n",
       "      <th></th>\n",
       "      <th>date</th>\n",
       "      <th>location</th>\n",
       "      <th>population</th>\n",
       "      <th>total_cases</th>\n",
       "      <th>people_vaccinated</th>\n",
       "      <th>total_cases_rate</th>\n",
       "      <th>people_vaccinated_rate</th>\n",
       "    </tr>\n",
       "  </thead>\n",
       "  <tbody>\n",
       "    <tr>\n",
       "      <th>66278</th>\n",
       "      <td>2020-01-27</td>\n",
       "      <td>Germany</td>\n",
       "      <td>83900471.0</td>\n",
       "      <td>1.0</td>\n",
       "      <td>1630125.0</td>\n",
       "      <td>1.191888e-08</td>\n",
       "      <td>0.019429</td>\n",
       "    </tr>\n",
       "    <tr>\n",
       "      <th>66279</th>\n",
       "      <td>2020-01-28</td>\n",
       "      <td>Germany</td>\n",
       "      <td>83900471.0</td>\n",
       "      <td>4.0</td>\n",
       "      <td>1630125.0</td>\n",
       "      <td>4.767554e-08</td>\n",
       "      <td>0.019429</td>\n",
       "    </tr>\n",
       "    <tr>\n",
       "      <th>66280</th>\n",
       "      <td>2020-01-29</td>\n",
       "      <td>Germany</td>\n",
       "      <td>83900471.0</td>\n",
       "      <td>4.0</td>\n",
       "      <td>1630125.0</td>\n",
       "      <td>4.767554e-08</td>\n",
       "      <td>0.019429</td>\n",
       "    </tr>\n",
       "    <tr>\n",
       "      <th>66281</th>\n",
       "      <td>2020-01-30</td>\n",
       "      <td>Germany</td>\n",
       "      <td>83900471.0</td>\n",
       "      <td>4.0</td>\n",
       "      <td>1630125.0</td>\n",
       "      <td>4.767554e-08</td>\n",
       "      <td>0.019429</td>\n",
       "    </tr>\n",
       "    <tr>\n",
       "      <th>66282</th>\n",
       "      <td>2020-01-31</td>\n",
       "      <td>Germany</td>\n",
       "      <td>83900471.0</td>\n",
       "      <td>5.0</td>\n",
       "      <td>1630125.0</td>\n",
       "      <td>5.959442e-08</td>\n",
       "      <td>0.019429</td>\n",
       "    </tr>\n",
       "    <tr>\n",
       "      <th>...</th>\n",
       "      <td>...</td>\n",
       "      <td>...</td>\n",
       "      <td>...</td>\n",
       "      <td>...</td>\n",
       "      <td>...</td>\n",
       "      <td>...</td>\n",
       "      <td>...</td>\n",
       "    </tr>\n",
       "    <tr>\n",
       "      <th>186059</th>\n",
       "      <td>2022-06-20</td>\n",
       "      <td>United States</td>\n",
       "      <td>332915074.0</td>\n",
       "      <td>86297081.0</td>\n",
       "      <td>259422786.0</td>\n",
       "      <td>2.592165e-01</td>\n",
       "      <td>0.779246</td>\n",
       "    </tr>\n",
       "    <tr>\n",
       "      <th>186060</th>\n",
       "      <td>2022-06-21</td>\n",
       "      <td>United States</td>\n",
       "      <td>332915074.0</td>\n",
       "      <td>86452232.0</td>\n",
       "      <td>259426758.0</td>\n",
       "      <td>2.596825e-01</td>\n",
       "      <td>0.779258</td>\n",
       "    </tr>\n",
       "    <tr>\n",
       "      <th>186061</th>\n",
       "      <td>2022-06-22</td>\n",
       "      <td>United States</td>\n",
       "      <td>332915074.0</td>\n",
       "      <td>86636306.0</td>\n",
       "      <td>259426758.0</td>\n",
       "      <td>2.602355e-01</td>\n",
       "      <td>0.779258</td>\n",
       "    </tr>\n",
       "    <tr>\n",
       "      <th>186062</th>\n",
       "      <td>2022-06-23</td>\n",
       "      <td>United States</td>\n",
       "      <td>332915074.0</td>\n",
       "      <td>86757621.0</td>\n",
       "      <td>259426758.0</td>\n",
       "      <td>2.605999e-01</td>\n",
       "      <td>0.779258</td>\n",
       "    </tr>\n",
       "    <tr>\n",
       "      <th>186063</th>\n",
       "      <td>2022-06-24</td>\n",
       "      <td>United States</td>\n",
       "      <td>332915074.0</td>\n",
       "      <td>86909716.0</td>\n",
       "      <td>259426758.0</td>\n",
       "      <td>2.610567e-01</td>\n",
       "      <td>0.779258</td>\n",
       "    </tr>\n",
       "  </tbody>\n",
       "</table>\n",
       "<p>3518 rows × 7 columns</p>\n",
       "</div>"
      ],
      "text/plain": [
       "              date       location   population  total_cases  \\\n",
       "66278   2020-01-27        Germany   83900471.0          1.0   \n",
       "66279   2020-01-28        Germany   83900471.0          4.0   \n",
       "66280   2020-01-29        Germany   83900471.0          4.0   \n",
       "66281   2020-01-30        Germany   83900471.0          4.0   \n",
       "66282   2020-01-31        Germany   83900471.0          5.0   \n",
       "...            ...            ...          ...          ...   \n",
       "186059  2022-06-20  United States  332915074.0   86297081.0   \n",
       "186060  2022-06-21  United States  332915074.0   86452232.0   \n",
       "186061  2022-06-22  United States  332915074.0   86636306.0   \n",
       "186062  2022-06-23  United States  332915074.0   86757621.0   \n",
       "186063  2022-06-24  United States  332915074.0   86909716.0   \n",
       "\n",
       "        people_vaccinated  total_cases_rate  people_vaccinated_rate  \n",
       "66278           1630125.0      1.191888e-08                0.019429  \n",
       "66279           1630125.0      4.767554e-08                0.019429  \n",
       "66280           1630125.0      4.767554e-08                0.019429  \n",
       "66281           1630125.0      4.767554e-08                0.019429  \n",
       "66282           1630125.0      5.959442e-08                0.019429  \n",
       "...                   ...               ...                     ...  \n",
       "186059        259422786.0      2.592165e-01                0.779246  \n",
       "186060        259426758.0      2.596825e-01                0.779258  \n",
       "186061        259426758.0      2.602355e-01                0.779258  \n",
       "186062        259426758.0      2.605999e-01                0.779258  \n",
       "186063        259426758.0      2.610567e-01                0.779258  \n",
       "\n",
       "[3518 rows x 7 columns]"
      ]
     },
     "execution_count": 172,
     "metadata": {},
     "output_type": "execute_result"
    }
   ],
   "source": [
    "processed_data"
   ]
  },
  {
   "cell_type": "code",
   "execution_count": null,
   "id": "f8630ede",
   "metadata": {},
   "outputs": [],
   "source": []
  },
  {
   "cell_type": "markdown",
   "id": "139d846f",
   "metadata": {},
   "source": [
    "### Data Visualization"
   ]
  },
  {
   "cell_type": "markdown",
   "id": "2ce4c148",
   "metadata": {},
   "source": [
    "#### Confirmed cases"
   ]
  },
  {
   "cell_type": "code",
   "execution_count": 173,
   "id": "c5524039",
   "metadata": {
    "scrolled": true
   },
   "outputs": [
    {
     "data": {
      "image/png": "[encoded data removed]",
      "text/plain": [
       "<Figure size 1440x432 with 1 Axes>"
      ]
     },
     "metadata": {},
     "output_type": "display_data"
    }
   ],
   "source": [
    "import seaborn as sns\n",
    "import matplotlib.pyplot as plt\n",
    "import matplotlib.ticker as plticker\n",
    "loc = plticker.MultipleLocator(base=55.0) # To put a tick every seven days\n",
    "plt.figure(figsize=(20, 6))  # to change the size of the graph\n",
    "plt.title(f\"Covid-19: Confirmed cases\")\n",
    "plt.ylabel(\"Total cases\")\n",
    "plt.xlabel(\"Date\")\n",
    "ax = sns.lineplot(data=processed_data, x=\"date\", y=\"total_cases_rate\", hue=\"location\")\n",
    "ax.xaxis.set_major_locator(loc)"
   ]
  },
  {
   "cell_type": "markdown",
   "id": "009ddfbc",
   "metadata": {},
   "source": [
    "#### Vaccination rate"
   ]
  },
  {
   "cell_type": "code",
   "execution_count": 174,
   "id": "309c856d",
   "metadata": {},
   "outputs": [
    {
     "data": {
      "image/png": "[encoded data removed]",
      "text/plain": [
       "<Figure size 1440x432 with 1 Axes>"
      ]
     },
     "metadata": {},
     "output_type": "display_data"
    }
   ],
   "source": [
    "import seaborn as sns\n",
    "import matplotlib.pyplot as plt\n",
    "import matplotlib.ticker as plticker\n",
    "loc = plticker.MultipleLocator(base=55.0) # To put a tick every seven days\n",
    "plt.figure(figsize=(20, 6))  # to change the size of the graph\n",
    "plt.title(f\"Covid-19: People vaccination rate\")\n",
    "plt.ylabel(\"People vaccinated\")\n",
    "plt.xlabel(\"Date\")\n",
    "ax = sns.lineplot(data=processed_data, x=\"date\", y=\"people_vaccinated_rate\", hue=\"location\")\n",
    "ax.xaxis.set_major_locator(loc)"
   ]
  },
  {
   "cell_type": "code",
   "execution_count": null,
   "id": "d41e43ef",
   "metadata": {},
   "outputs": [],
   "source": []
  }
 ],
 "metadata": {
  "kernelspec": {
   "display_name": "Python 3",
   "language": "python",
   "name": "python3"
  },
  "language_info": {
   "codemirror_mode": {
    "name": "ipython",
    "version": 3
   },
   "file_extension": ".py",
   "mimetype": "text/x-python",
   "name": "python",
   "nbconvert_exporter": "python",
   "pygments_lexer": "ipython3",
   "version": "3.8.8"
  }
 },
 "nbformat": 4,
 "nbformat_minor": 5
}
